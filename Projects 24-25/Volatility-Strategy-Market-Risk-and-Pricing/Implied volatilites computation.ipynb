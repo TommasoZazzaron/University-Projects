{
 "cells": [
  {
   "cell_type": "code",
   "id": "initial_id",
   "metadata": {
    "collapsed": true,
    "ExecuteTime": {
     "end_time": "2025-02-09T14:29:45.476623Z",
     "start_time": "2025-02-09T14:29:45.464544Z"
    }
   },
   "source": [
    "import numpy as np\n",
    "from scipy.stats import norm\n",
    "from scipy.optimize import minimize\n",
    "\n",
    "def BSCallOption(S, T, K, r, q, sigma):\n",
    "    d1 = (np.log(S/K) + (r -q + 0.5 * sigma**2) * T) / (sigma * np.sqrt(T))\n",
    "    d2 = d1 - sigma * np.sqrt(T)\n",
    "    call_price = -K * np.exp(-r * T) * norm.cdf(d2) + S * np.exp(-q*T)* norm.cdf(d1)\n",
    "    return call_price\n",
    "\n",
    "def costCall(sigma, S, T, K, r, q, Call_lt):\n",
    "    return (Call_lt - BSCallOption(S, T, K, r, q, sigma))**2\n",
    "#important to put sigma as first entry of the cost function, as minimize expect it to be put in 1st place\n",
    "def computeIVCall(S, T, K, r, q, Call_lt, sigma0):\n",
    "    result= minimize(costCall, sigma0, args=(S, T, K, r, q, Call_lt))\n",
    "    return result\n",
    "\n",
    "def BSPutOption(S, T, K, r, q, sigma):\n",
    "    d1 = (np.log(S/K) + (r -q + 0.5 * sigma**2) * T) / (sigma * np.sqrt(T))\n",
    "    d2 = d1 - sigma * np.sqrt(T)\n",
    "    put_price = K * np.exp(-r * T) * norm.cdf(-d2) - S * np.exp(-q*T)* norm.cdf(-d1)\n",
    "    return put_price\n",
    "\n",
    "def costPut(sigma, S, T, K, r, q, put_lt):\n",
    "    return (put_lt - BSPutOption(S, T, K, r, q, sigma))**2\n",
    "#important to put sigma as first entry of the cost function, as minimize expect it to be put in 1st place\n",
    "def computeIVPut(S, T, K, r, q, put_lt, sigma0):\n",
    "    result= minimize(costPut, sigma0, args=(S, T, K, r, q, put_lt))\n",
    "    return result"
   ],
   "outputs": [],
   "execution_count": 3
  },
  {
   "metadata": {},
   "cell_type": "markdown",
   "source": "Starting",
   "id": "3e2b150543072259"
  },
  {
   "metadata": {
    "ExecuteTime": {
     "end_time": "2025-02-10T15:39:02.852293Z",
     "start_time": "2025-02-10T15:39:02.841062Z"
    }
   },
   "cell_type": "code",
   "source": "r=0.0522",
   "id": "1edd8ce31de2bf65",
   "outputs": [],
   "execution_count": 50
  },
  {
   "metadata": {},
   "cell_type": "markdown",
   "source": "implied risk-free rate computed from the Put-Call parity ",
   "id": "330627ab1e825271"
  },
  {
   "metadata": {
    "ExecuteTime": {
     "end_time": "2025-02-10T15:39:04.180681Z",
     "start_time": "2025-02-10T15:39:04.166867Z"
    }
   },
   "cell_type": "code",
   "source": [
    "Call_lt1= 13.58\n",
    "Put_lt1= 11.1\n",
    "T=72/252\n",
    "S0  = 118.65\n",
    "K_call_lt1=126\n",
    "K_put_lt1=116\n",
    "q=0\n",
    "\n",
    "sigma0=0.2 #Initial Guess for minimize\n",
    "\n",
    "IV1Call= computeIVCall(S0, T, K_call_lt1, r, q, Call_lt1, sigma0)\n",
    "IV1Put= computeIVPut(S0, T, K_put_lt1, r, q, Put_lt1, sigma0)\n",
    "print('IV1Call:',IV1Call.x[0],'IV1Put:',IV1Put.x[0])\n",
    "print('B&S Call price',BSCallOption(S0, T, K_call_lt1, r, q, 0.6278765),'B&S Put price', BSPutOption(S0, T, K_put_lt1, r, q, 0.532075))"
   ],
   "id": "346553df07adb853",
   "outputs": [
    {
     "name": "stdout",
     "output_type": "stream",
     "text": [
      "IV1Call: 0.6278765087976224 IV1Put: 0.5320751446726355\n",
      "B&S Call price 13.57999970729658 B&S Put price 11.099996487273302\n"
     ]
    }
   ],
   "execution_count": 51
  },
  {
   "metadata": {},
   "cell_type": "markdown",
   "source": "Strangle Long term 1 (T=72/252) characteristics: Call and Put IV, and B&S prices",
   "id": "9dd76a324ba8b0b6"
  },
  {
   "metadata": {
    "ExecuteTime": {
     "end_time": "2025-02-10T15:39:07.059294Z",
     "start_time": "2025-02-10T15:39:07.045280Z"
    }
   },
   "cell_type": "code",
   "source": [
    "Call_lt2= 17.3\n",
    "Put_lt2= 6.75\n",
    "T=72/252\n",
    "S0  = 118.65\n",
    "K_call_lt2=125\n",
    "K_put_lt2=115\n",
    "q=0\n",
    "\n",
    "sigma0=0.2 #Initial Guess for minimize\n",
    "\n",
    "IV2Call= computeIVCall(S0, T, K_call_lt2, r, q, Call_lt2, sigma0)\n",
    "IV2Put= computeIVPut(S0, T, K_put_lt2, r, q, Put_lt2, sigma0)\n",
    "print('IV2Call:',IV2Call.x[0],'IV2Put:',IV2Put.x[0])\n",
    "print('B&S Call price',BSCallOption(S0, T, K_call_lt2, r, q, 0.7603792118671),'B&S Put price', BSPutOption(S0, T, K_put_lt2, r, q, 0.37183366860))"
   ],
   "id": "bb2f7228b2a3d992",
   "outputs": [
    {
     "name": "stdout",
     "output_type": "stream",
     "text": [
      "IV2Call: 0.7603792118670482 IV2Put: 0.37183366860668726\n",
      "B&S Call price 17.29999981265069 B&S Put price 6.749999812899951\n"
     ]
    }
   ],
   "execution_count": 52
  },
  {
   "metadata": {},
   "cell_type": "markdown",
   "source": "Strangle Long term 2 (T=72/252) characteristics: Call and Put IV, and B&S prices",
   "id": "ee9def11cc49dbfc"
  },
  {
   "metadata": {
    "ExecuteTime": {
     "end_time": "2025-02-10T15:39:09.446128Z",
     "start_time": "2025-02-10T15:39:09.434045Z"
    }
   },
   "cell_type": "code",
   "source": [
    "Call_st1= 12.5\n",
    "Put_st1= 2.89\n",
    "T=22/252\n",
    "S0  = 118.65\n",
    "KCall_st1=124 #call\n",
    "KPut_st1=114 #put\n",
    "q=0\n",
    "\n",
    "sigma0=0.2 #Initial Guess for minimize\n",
    "\n",
    "IV1Call= computeIVCall(S0, T, KCall_st1, r, q, Call_st1, sigma0)\n",
    "IV1Put = computeIVPut(S0, T, KPut_st1, r, q, Put_st1, sigma0)\n",
    "print('IV1Call:',IV1Call.x[0],'IV1Put:',IV1Put.x[0])\n",
    "print('B&S Call price',BSCallOption(S0, T, KCall_st1, r, q,  1.0393825405513208),'B&S Put price', BSPutOption(S0, T, KPut_st1, r, q, 0.37007862895780974))"
   ],
   "id": "14ad7dd844a3d4b1",
   "outputs": [
    {
     "name": "stdout",
     "output_type": "stream",
     "text": [
      "IV1Call: 1.0393825405513208 IV1Put: 0.37007862895780974\n",
      "B&S Call price 12.499999895828921 B&S Put price 2.8899999119010715\n"
     ]
    }
   ],
   "execution_count": 53
  },
  {
   "metadata": {},
   "cell_type": "markdown",
   "source": "Strangle 1 Short term (T=22/252) characteristics: Call and Put IV, and B&S prices",
   "id": "49a2fee8afb0b545"
  },
  {
   "metadata": {
    "ExecuteTime": {
     "end_time": "2025-02-09T18:09:22.185612Z",
     "start_time": "2025-02-09T18:09:22.170400Z"
    }
   },
   "cell_type": "code",
   "source": [
    "Call_st2= 13.65\n",
    "Put_st2= 2.5\n",
    "T=22/252\n",
    "S0  = 118.65\n",
    "KCall_st2=122 #call\n",
    "KPut_st2=112 #put\n",
    "q=0\n",
    "\n",
    "sigma0=0.2 #Initial Guess for minimize\n",
    "\n",
    "IV2Call= computeIVCall(S0, T, KCall_st2, r, q, Call_st2, sigma0)\n",
    "IV2Put = computeIVPut(S0, T, KPut_st2, r, q, Put_st2, sigma0)\n",
    "print('IV2Call:',IV2Call.x[0],'IV2Put:',IV2Put.x[0])\n",
    "print('B&S Call price',BSCallOption(S0, T, KCall_st2, r, q,  1.0648904481),'B&S Put price', BSPutOption(S0, T, KPut_st2, r, q, 0.393488613))"
   ],
   "id": "f4c76af0c91df5c7",
   "outputs": [
    {
     "name": "stdout",
     "output_type": "stream",
     "text": [
      "IV2Call: 1.06489044810766 IV2Put: 0.39348861320951956\n",
      "B&S Call price 13.650000001905084 B&S Put price 2.499999909990045\n"
     ]
    }
   ],
   "execution_count": 43
  },
  {
   "metadata": {},
   "cell_type": "markdown",
   "source": "Strangle 2 Short term (T=22/252) characteristics: Call and Put IV, and B&S prices",
   "id": "d363cb51679a2005"
  },
  {
   "metadata": {
    "ExecuteTime": {
     "end_time": "2025-02-09T17:23:51.083181Z",
     "start_time": "2025-02-09T17:23:51.066965Z"
    }
   },
   "cell_type": "code",
   "source": [
    "Call_st3= 11.85\n",
    "Put_st3= 3.12\n",
    "T=22/252\n",
    "S0  = 118.65\n",
    "KCall_st3=125 #call\n",
    "KPut_st3=115 #put\n",
    "q=0\n",
    "\n",
    "sigma0=0.2 #Initial Guess for minimize\n",
    "\n",
    "IV3Call= computeIVCall(S0, T, KCall_st3, r, q, Call_st3, sigma0)\n",
    "IV3Put = computeIVPut(S0, T, KPut_st3, r, q, Put_st3, sigma0)\n",
    "print('IV3Call:',IV3Call.x[0],'IV3Put:',IV3Put.x[0])\n",
    "print('B&S Call price',BSCallOption(S0, T, KCall_st3, r, q,  1.0202268878),'B&S Put price', BSPutOption(S0, T, KPut_st3, r, q, 0.358861713))"
   ],
   "id": "6d8dcc51c7788c6e",
   "outputs": [
    {
     "name": "stdout",
     "output_type": "stream",
     "text": [
      "IV3Call: 1.0202268878369434 IV3Put: 0.3588617126936721\n",
      "B&S Call price 11.849999664476968 B&S Put price 3.119999907449227\n"
     ]
    }
   ],
   "execution_count": 41
  },
  {
   "metadata": {},
   "cell_type": "markdown",
   "source": "Strangle 3 Short term (T=22/252) characteristics: Call and Put IV, and B&S prices",
   "id": "b25e0f31c14f1bcd"
  },
  {
   "metadata": {
    "ExecuteTime": {
     "end_time": "2025-02-09T16:29:01.886426Z",
     "start_time": "2025-02-09T16:29:01.879112Z"
    }
   },
   "cell_type": "code",
   "source": [
    "Call_Bar_lt1=20.05\n",
    "K_Call_bar_lt1=120 #was K=121 but rounded to 120 as for T=72/252 prices moves from 5 to 5\n",
    "T=72/252\n",
    "S0=118.65\n",
    "q=0\n",
    "\n",
    "sigma0=0.2\n",
    "\n",
    "IV1Call_bar= computeIVCall(S0, T, K_Call_bar_lt1, r, q, Call_Bar_lt1, sigma0)\n",
    "print('IV1Call:',IV1Call_bar.x[0])\n",
    "print('B&S Call price',BSCallOption(S0, T, K_Call_bar_lt1, r, q,  0.7912623005230844))"
   ],
   "id": "d44280f8d844bbc9",
   "outputs": [
    {
     "name": "stdout",
     "output_type": "stream",
     "text": [
      "IV1Call: 0.7912623005230844\n",
      "20.049999818365478\n"
     ]
    }
   ],
   "execution_count": 18
  },
  {
   "metadata": {},
   "cell_type": "markdown",
   "source": "Barrier 1 Long term (T=72/252) IV",
   "id": "dcce9dbc28698fb6"
  },
  {
   "metadata": {
    "ExecuteTime": {
     "end_time": "2025-02-11T13:16:33.676034Z",
     "start_time": "2025-02-11T13:16:33.668568Z"
    }
   },
   "cell_type": "code",
   "source": [
    "K=108\n",
    "S0=118.65\n",
    "q=0\n",
    "P=1.74\n",
    "T=22/252\n",
    "\n",
    "sigma0=0.2\n",
    "IV1Call= computeIVPut(S0, T, K, r, q, P, sigma0)\n",
    "print(IV1Call.x[0])\n",
    "print('B&S Put price',BSPutOption(S0, T, K, r, q, 0.42421326395909786))"
   ],
   "id": "25761ddb3f047cd4",
   "outputs": [
    {
     "name": "stdout",
     "output_type": "stream",
     "text": [
      "0.42421326395909786\n",
      "B&S Put price 1.7399999274401736\n"
     ]
    }
   ],
   "execution_count": 61
  },
  {
   "metadata": {},
   "cell_type": "markdown",
   "source": "",
   "id": "1ebb8203ac876a27"
  },
  {
   "metadata": {
    "ExecuteTime": {
     "end_time": "2025-02-09T17:01:39.138959Z",
     "start_time": "2025-02-09T17:01:39.122700Z"
    }
   },
   "cell_type": "code",
   "source": [
    "Call_Bar_lt2=20.05\n",
    "K_Call_bar_lt2=120 \n",
    "T=72/252\n",
    "S0=118.65\n",
    "q=0\n",
    "\n",
    "sigma0=0.2\n",
    "\n",
    "IV2Call_bar= computeIVCall(S0, T, K_Call_bar_lt2, r, q, Call_Bar_lt2, sigma0)\n",
    "print('IV2Call:',IV2Call_bar.x[0])\n",
    "print('B&S Call price',BSCallOption(S0, T, K_Call_bar_lt2, r, q,  0.7912623005230844))"
   ],
   "id": "66a3d08f30693e20",
   "outputs": [
    {
     "name": "stdout",
     "output_type": "stream",
     "text": [
      "IV2Call: 0.7912623005230844\n",
      "20.049999818365478\n"
     ]
    }
   ],
   "execution_count": 36
  },
  {
   "metadata": {},
   "cell_type": "markdown",
   "source": "Barrier 2 Long term (T=72/252) IV (Same data but this is for the strangle 125/112)",
   "id": "91ec65497499bec6"
  },
  {
   "metadata": {
    "ExecuteTime": {
     "end_time": "2025-02-09T17:38:57.764890Z",
     "start_time": "2025-02-09T17:38:57.755025Z"
    }
   },
   "cell_type": "code",
   "source": [
    "Call_Bar_st1=15.45\n",
    "K_Call_bar_st1=119 \n",
    "T=22/252\n",
    "S0=118.65\n",
    "q=0\n",
    "\n",
    "sigma0=0.2\n",
    "\n",
    "IV1Call_bar= computeIVCall(S0, T, K_Call_bar_st1, r, q, Call_Bar_st1, sigma0)\n",
    "print('IV1Call:',IV1Call_bar.x[0])\n",
    "print('B&S Call price',BSCallOption(S0, T, K_Call_bar_st1, r, q,  1.1035984252304836))"
   ],
   "id": "a26de76ade087066",
   "outputs": [
    {
     "name": "stdout",
     "output_type": "stream",
     "text": [
      "IV1Call: 1.1035984252304836\n",
      "B&S Call price 15.44999990781163\n"
     ]
    }
   ],
   "execution_count": 42
  },
  {
   "metadata": {},
   "cell_type": "markdown",
   "source": "Barrier 1 Short term (T=22/252) IV",
   "id": "5150862a8cb20ed5"
  },
  {
   "metadata": {
    "ExecuteTime": {
     "end_time": "2025-02-09T17:05:28.510196Z",
     "start_time": "2025-02-09T17:05:28.496326Z"
    }
   },
   "cell_type": "code",
   "source": [
    "Call_Bar_st2=14.9\n",
    "K_Call_bar_st2=120 \n",
    "T=22/252\n",
    "S0=118.65\n",
    "q=0\n",
    "\n",
    "sigma0=0.2\n",
    "\n",
    "IV2Call_bar= computeIVCall(S0, T, K_Call_bar_st2, r, q, Call_Bar_st2, sigma0)\n",
    "print('IV2Call:',IV2Call_bar.x[0])\n",
    "print('B&S Call price',BSCallOption(S0, T, K_Call_bar_st2, r, q,  1.0949441548638223))"
   ],
   "id": "3c51fc9aa07890ce",
   "outputs": [
    {
     "name": "stdout",
     "output_type": "stream",
     "text": [
      "IV2Call: 1.0949441548638223\n",
      "14.899999903291153\n"
     ]
    }
   ],
   "execution_count": 37
  },
  {
   "metadata": {},
   "cell_type": "markdown",
   "source": "Barrier 2 Short term (T=22/252) IV ",
   "id": "f8b55625e4b0d733"
  },
  {
   "metadata": {
    "ExecuteTime": {
     "end_time": "2025-02-09T17:05:35.774536Z",
     "start_time": "2025-02-09T17:05:35.765503Z"
    }
   },
   "cell_type": "code",
   "source": [
    "Call_Bar_st3=16.6\n",
    "K_Call_bar_st3=120 \n",
    "T=22/252\n",
    "S0=118.65\n",
    "q=0\n",
    "\n",
    "sigma0=0.2\n",
    "\n",
    "IV3Call_bar= computeIVCall(S0, T, K_Call_bar_st3, r, q, Call_Bar_st3, sigma0)\n",
    "print('IV3Call:',IV3Call_bar.x[0])\n",
    "print('B&S Call price',BSCallOption(S0, T, K_Call_bar_st3, r, q,  1.2178922276162314))"
   ],
   "id": "a2fe3578136501bb",
   "outputs": [
    {
     "name": "stdout",
     "output_type": "stream",
     "text": [
      "IV3Call: 1.2178922276162314\n",
      "16.59999989713814\n"
     ]
    }
   ],
   "execution_count": 38
  },
  {
   "metadata": {},
   "cell_type": "markdown",
   "source": "Barrier 3 Short term (T=22/252) IV",
   "id": "7fbb3b2cf68d94c7"
  }
 ],
 "metadata": {
  "kernelspec": {
   "display_name": "Python 3",
   "language": "python",
   "name": "python3"
  },
  "language_info": {
   "codemirror_mode": {
    "name": "ipython",
    "version": 2
   },
   "file_extension": ".py",
   "mimetype": "text/x-python",
   "name": "python",
   "nbconvert_exporter": "python",
   "pygments_lexer": "ipython2",
   "version": "2.7.6"
  }
 },
 "nbformat": 4,
 "nbformat_minor": 5
}
